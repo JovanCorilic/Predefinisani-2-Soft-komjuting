{
 "cells": [
  {
   "cell_type": "code",
   "execution_count": 20,
   "metadata": {},
   "outputs": [],
   "source": [
    "import os\n",
    "import numpy as np\n",
    "import cv2 # OpenCV\n",
    "import pandas as pd\n",
    "from sklearn.svm import SVC # SVM klasifikator\n",
    "from sklearn.metrics import accuracy_score\n",
    "from sklearn.model_selection import train_test_split\n",
    "import matplotlib.pyplot as plt\n",
    "%matplotlib inline"
   ]
  },
  {
   "cell_type": "code",
   "execution_count": 21,
   "metadata": {},
   "outputs": [],
   "source": [
    "def load_image(path):\n",
    "    img  = cv2.imread(path,cv2.IMREAD_UNCHANGED)\n",
    "    dim = (100, 40)\n",
    "    return cv2.resize(img, dim, interpolation = cv2.INTER_AREA)\n",
    "\n",
    "def display_image(image):\n",
    "    plt.imshow(image)"
   ]
  },
  {
   "cell_type": "code",
   "execution_count": 22,
   "metadata": {},
   "outputs": [
    {
     "name": "stdout",
     "output_type": "stream",
     "text": [
      "Rain images #:  171\n",
      "Sunrise images #:  286\n",
      "Shine images #:  201\n",
      "Cloudy images #:  240\n"
     ]
    }
   ],
   "source": [
    "train_dir = 'train/'\n",
    "df = pd.read_csv(\"train_labels.csv\")\n",
    "\n",
    "rain = []\n",
    "sunrise = []\n",
    "shine = []\n",
    "cloudy = []\n",
    "\n",
    "\n",
    "for i in range(0,df[\"file_name\"].size):\n",
    "    \n",
    "    img = load_image(train_dir+df[\"file_name\"][i])\n",
    "    if 'rain' in df[\"weather\"][i]:\n",
    "        rain.append(img)\n",
    "    elif 'sunrise' in df[\"weather\"][i]:\n",
    "        sunrise.append(img)\n",
    "    elif 'shine' in df[\"weather\"][i]:\n",
    "        shine.append(img)\n",
    "    elif 'cloudy' in df[\"weather\"][i]:\n",
    "        cloudy.append(img)\n",
    "        \n",
    "print(\"Rain images #: \", len(rain))\n",
    "print(\"Sunrise images #: \", len(sunrise))\n",
    "print(\"Shine images #: \", len(shine))\n",
    "print(\"Cloudy images #: \", len(cloudy))"
   ]
  },
  {
   "cell_type": "code",
   "execution_count": 23,
   "metadata": {},
   "outputs": [
    {
     "name": "stdout",
     "output_type": "stream",
     "text": [
      "Nesto nije uredu sa slikom!\n"
     ]
    }
   ],
   "source": [
    "rain_features = []\n",
    "sunrise_features = []\n",
    "shine_features = []\n",
    "cloudy_features = []\n",
    "labels = []\n",
    "\n",
    "nbins = 9 # broj binova\n",
    "cell_size = (8, 8) # broj piksela po celiji\n",
    "block_size = (3, 3) # broj celija po bloku\n",
    "\n",
    "hog = cv2.HOGDescriptor(_winSize=(img.shape[1] // cell_size[1] * cell_size[1], \n",
    "                                  img.shape[0] // cell_size[0] * cell_size[0]),\n",
    "                        _blockSize=(block_size[1] * cell_size[1],\n",
    "                                    block_size[0] * cell_size[0]),\n",
    "                        _blockStride=(cell_size[1], cell_size[0]),\n",
    "                        _cellSize=(cell_size[1], cell_size[0]),\n",
    "                        _nbins=nbins)\n",
    "for img in rain:\n",
    "    rain_features.append(hog.compute(img))\n",
    "    labels.append(3)\n",
    "\n",
    "for img in sunrise:\n",
    "    sunrise_features.append(hog.compute(img))\n",
    "    labels.append(2)\n",
    "\n",
    "for img in shine:\n",
    "    try:\n",
    "        shine_features.append(hog.compute(img))\n",
    "        labels.append(1)\n",
    "    except:\n",
    "        print(\"Nesto nije uredu sa slikom!\")\n",
    "    \n",
    "\n",
    "for img in cloudy:\n",
    "    cloudy_features.append(hog.compute(img))\n",
    "    labels.append(0)\n",
    "\n",
    "rain_features = np.array(rain_features)\n",
    "sunrise_features = np.array(sunrise_features)\n",
    "shine_features = np.array(shine_features)\n",
    "cloudy_features = np.array(cloudy_features)\n",
    "x = np.vstack((rain_features, sunrise_features,shine_features,cloudy_features))\n",
    "y = np.array(labels)"
   ]
  },
  {
   "cell_type": "code",
   "execution_count": 24,
   "metadata": {
    "scrolled": false
   },
   "outputs": [
    {
     "name": "stdout",
     "output_type": "stream",
     "text": [
      "Train shape:  (717, 2430, 1) (717,)\n",
      "Test shape:  (180, 2430, 1) (180,)\n"
     ]
    }
   ],
   "source": [
    "x_train, x_test, y_train, y_test = train_test_split(x, y, test_size=0.2, random_state=42)\n",
    "print('Train shape: ', x_train.shape, y_train.shape)\n",
    "print('Test shape: ', x_test.shape, y_test.shape)"
   ]
  },
  {
   "cell_type": "code",
   "execution_count": 25,
   "metadata": {},
   "outputs": [
    {
     "name": "stdout",
     "output_type": "stream",
     "text": [
      "Train shape:  (717, 2430) (717,)\n",
      "Test shape:  (180, 2430) (180,)\n"
     ]
    }
   ],
   "source": [
    "def reshape_data(input_data):\n",
    "    nsamples, nx, ny = input_data.shape\n",
    "    return input_data.reshape((nsamples, nx*ny))\n",
    "\n",
    "x_train = reshape_data(x_train)\n",
    "x_test = reshape_data(x_test)\n",
    "print('Train shape: ', x_train.shape, y_train.shape)\n",
    "print('Test shape: ', x_test.shape, y_test.shape)"
   ]
  },
  {
   "cell_type": "code",
   "execution_count": 26,
   "metadata": {},
   "outputs": [
    {
     "name": "stdout",
     "output_type": "stream",
     "text": [
      "Train accuracy:  0.9832635983263598\n",
      "Validation accuracy:  0.7388888888888889\n"
     ]
    }
   ],
   "source": [
    "clf_svm = SVC(kernel='linear', probability=True) \n",
    "clf_svm.fit(x_train, y_train)\n",
    "y_train_pred = clf_svm.predict(x_train)\n",
    "y_test_pred = clf_svm.predict(x_test)\n",
    "print(\"Train accuracy: \", accuracy_score(y_train, y_train_pred))\n",
    "print(\"Validation accuracy: \", accuracy_score(y_test, y_test_pred))"
   ]
  },
  {
   "cell_type": "code",
   "execution_count": null,
   "metadata": {},
   "outputs": [],
   "source": []
  }
 ],
 "metadata": {
  "kernelspec": {
   "display_name": "Python 3",
   "language": "python",
   "name": "python3"
  },
  "language_info": {
   "codemirror_mode": {
    "name": "ipython",
    "version": 3
   },
   "file_extension": ".py",
   "mimetype": "text/x-python",
   "name": "python",
   "nbconvert_exporter": "python",
   "pygments_lexer": "ipython3",
   "version": "3.6.8"
  }
 },
 "nbformat": 4,
 "nbformat_minor": 5
}
